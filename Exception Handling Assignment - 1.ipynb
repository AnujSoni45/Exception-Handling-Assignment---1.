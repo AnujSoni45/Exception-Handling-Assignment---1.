{
 "cells": [
  {
   "cell_type": "code",
   "execution_count": null,
   "id": "de276f99-8927-4350-9d0b-65a5cb5e7057",
   "metadata": {},
   "outputs": [],
   "source": [
    "Q1. What is an Exception in python ? Write the difference between Exceptions and Syntax\n",
    "errors."
   ]
  },
  {
   "cell_type": "code",
   "execution_count": null,
   "id": "ba44289e-193e-4f24-ba5c-d47d5a00b779",
   "metadata": {},
   "outputs": [],
   "source": [
    "(Answer):\n",
    "In Python, an exception is an event that occurs during the execution of a program that disrupts the normal \n",
    "flow of the program's instructions. When an exception occurs, the program execution is immediately halted, \n",
    "and the Python interpreter looks for an exception handling mechanism to deal with the exceptional situation. \n",
    "Exception handling allows you to gracefully handle errors and prevent your program from crashing.\n",
    " \n",
    "Difference between Exceptions and Syntax:\n",
    "An Exception is an event that occurs during the program execution and disrupts the normal flow of the program's \n",
    "execution.\n",
    "Errors mostly happen at compile-time like syntax error; however it can happen at runtime as well. \n",
    "Whereas an Exception occurs at runtime (checked exceptions can be detected at compile time).\n",
    "\n"
   ]
  },
  {
   "cell_type": "code",
   "execution_count": null,
   "id": "92103c6b-daae-4d8b-9953-349b2198f97a",
   "metadata": {},
   "outputs": [],
   "source": [
    "Q2. What happens when an exception is not handled ? Explain with an example."
   ]
  },
  {
   "cell_type": "code",
   "execution_count": null,
   "id": "d066ba9a-6f5e-4ded-a668-7f29d8787dc1",
   "metadata": {},
   "outputs": [],
   "source": [
    "(Answer):\n",
    "When an exception is not handled, it propagates up the call stack, potentially causing the program to \n",
    "terminate abruptly."
   ]
  },
  {
   "cell_type": "code",
   "execution_count": 3,
   "id": "b2ba6ef2-5edb-4c9e-9364-895c6aed749a",
   "metadata": {},
   "outputs": [
    {
     "ename": "ZeroDivisionError",
     "evalue": "division by zero",
     "output_type": "error",
     "traceback": [
      "\u001b[0;31m---------------------------------------------------------------------------\u001b[0m",
      "\u001b[0;31mZeroDivisionError\u001b[0m                         Traceback (most recent call last)",
      "Cell \u001b[0;32mIn[3], line 5\u001b[0m\n\u001b[1;32m      2\u001b[0m     \u001b[38;5;28;01mreturn\u001b[39;00m a \u001b[38;5;241m/\u001b[39m b\n\u001b[1;32m      4\u001b[0m \u001b[38;5;28;01mtry\u001b[39;00m:\n\u001b[0;32m----> 5\u001b[0m     result \u001b[38;5;241m=\u001b[39m \u001b[43mdivide\u001b[49m\u001b[43m(\u001b[49m\u001b[38;5;241;43m5\u001b[39;49m\u001b[43m,\u001b[49m\u001b[43m \u001b[49m\u001b[38;5;241;43m0\u001b[39;49m\u001b[43m)\u001b[49m  \u001b[38;5;66;03m# This will raise a ZeroDivisionError\u001b[39;00m\n\u001b[1;32m      6\u001b[0m \u001b[38;5;28;01mexcept\u001b[39;00m \u001b[38;5;167;01mValueError\u001b[39;00m:\n\u001b[1;32m      7\u001b[0m     \u001b[38;5;28mprint\u001b[39m(\u001b[38;5;124m\"\u001b[39m\u001b[38;5;124mCaught a ValueError\u001b[39m\u001b[38;5;124m\"\u001b[39m)\n",
      "Cell \u001b[0;32mIn[3], line 2\u001b[0m, in \u001b[0;36mdivide\u001b[0;34m(a, b)\u001b[0m\n\u001b[1;32m      1\u001b[0m \u001b[38;5;28;01mdef\u001b[39;00m \u001b[38;5;21mdivide\u001b[39m(a, b):\n\u001b[0;32m----> 2\u001b[0m     \u001b[38;5;28;01mreturn\u001b[39;00m \u001b[43ma\u001b[49m\u001b[43m \u001b[49m\u001b[38;5;241;43m/\u001b[39;49m\u001b[43m \u001b[49m\u001b[43mb\u001b[49m\n",
      "\u001b[0;31mZeroDivisionError\u001b[0m: division by zero"
     ]
    }
   ],
   "source": [
    "Example:\n",
    "def divide(a, b):\n",
    "    return a / b\n",
    "\n",
    "try:\n",
    "    result = divide(5, 0)  # This will raise a ZeroDivisionError\n",
    "except ValueError:\n",
    "    print(\"Caught a ValueError\")\n"
   ]
  },
  {
   "cell_type": "code",
   "execution_count": 2,
   "id": "15b7026a-a8e2-428b-949b-38143a4c6fe3",
   "metadata": {},
   "outputs": [
    {
     "name": "stdout",
     "output_type": "stream",
     "text": [
      "Caught a ZeroDivisionError\n"
     ]
    }
   ],
   "source": [
    "try:\n",
    "    result = divide(5, 0)\n",
    "except ZeroDivisionError:\n",
    "    print(\"Caught a ZeroDivisionError\")\n",
    "except Exception:\n",
    "    print(\"Caught a general Exception\")\n"
   ]
  },
  {
   "cell_type": "code",
   "execution_count": null,
   "id": "b505330e-c1e2-4852-bbe6-01a6b69f84d0",
   "metadata": {},
   "outputs": [],
   "source": [
    "Q3. Which Python statements are used to catch and handle exceptions ?"
   ]
  },
  {
   "cell_type": "code",
   "execution_count": null,
   "id": "1193140f-e794-4380-8d00-ab7389f8679a",
   "metadata": {},
   "outputs": [],
   "source": [
    "In Python, you can use the try and except statements to catch and handle exceptions. These statements allow you \n",
    "to specify a block of code that might raise an exception, and then provide one or more blocks of code to handle\n",
    "those exceptions."
   ]
  },
  {
   "cell_type": "code",
   "execution_count": null,
   "id": "f818ec44-2d15-40f3-b61f-a24f7222c4a6",
   "metadata": {},
   "outputs": [],
   "source": [
    "The basic structure of using try and except is as follows:\n",
    "    \n",
    "try:\n",
    "    # Code that might raise an exception\n",
    "except ExceptionType:\n",
    "    # Code to handle the exception\n",
    "    \n",
    "Here's an example of using try and except:"
   ]
  },
  {
   "cell_type": "code",
   "execution_count": 6,
   "id": "a4e6114a-c5de-43b0-9253-0e67b5156fee",
   "metadata": {},
   "outputs": [
    {
     "name": "stdin",
     "output_type": "stream",
     "text": [
      "Enter a number:  9\n"
     ]
    }
   ],
   "source": [
    "try:\n",
    "    num = int(input(\"Enter a number: \"))\n",
    "    result = 10 / num\n",
    "except ZeroDivisionError:\n",
    "    print(\"Cannot divide by zero\")\n",
    "except ValueError:\n",
    "    print(\"Invalid input. Please enter a valid number.\")\n"
   ]
  },
  {
   "cell_type": "code",
   "execution_count": null,
   "id": "49b9bc5b-ca31-4929-b4a1-43947a445bc8",
   "metadata": {},
   "outputs": [],
   "source": [
    "Q4. Expain with an example:\n",
    "\n",
    "a. try and else\n",
    "b. finally\n",
    "c. raise\n"
   ]
  },
  {
   "cell_type": "code",
   "execution_count": null,
   "id": "512d69a8-a54e-4feb-9954-8d57de3f4c03",
   "metadata": {},
   "outputs": [],
   "source": [
    "a. try, else, and except Example:\n",
    "The else block is used in conjunction with the try and except blocks. Code inside the else block is executed if \n",
    "no exceptions are raised in the try block."
   ]
  },
  {
   "cell_type": "code",
   "execution_count": 7,
   "id": "46856a83-d7b3-4572-bdb4-072e4bb7cf7f",
   "metadata": {},
   "outputs": [
    {
     "name": "stdin",
     "output_type": "stream",
     "text": [
      "Enter a number:  6\n"
     ]
    },
    {
     "name": "stdout",
     "output_type": "stream",
     "text": [
      "The result is: 1.6666666666666667\n"
     ]
    }
   ],
   "source": [
    "try:\n",
    "    num = int(input(\"Enter a number: \"))\n",
    "    result = 10 / num\n",
    "except ZeroDivisionError:\n",
    "    print(\"Cannot divide by zero\")\n",
    "except ValueError:\n",
    "    print(\"Invalid input. Please enter a valid number.\")\n",
    "else:\n",
    "    print(\"The result is:\", result)\n"
   ]
  },
  {
   "cell_type": "code",
   "execution_count": null,
   "id": "30d23e05-6e6d-4f47-8930-4000364df4f2",
   "metadata": {},
   "outputs": [],
   "source": [
    "b. finally Example:\n",
    "The finally block is used to define a set of statements that will be executed regardless of whether an exception \n",
    "was raised or not."
   ]
  },
  {
   "cell_type": "code",
   "execution_count": 8,
   "id": "aaccc72c-eab0-4095-842d-8f79eca339be",
   "metadata": {},
   "outputs": [
    {
     "name": "stdout",
     "output_type": "stream",
     "text": [
      "File not found\n"
     ]
    },
    {
     "ename": "NameError",
     "evalue": "name 'file' is not defined",
     "output_type": "error",
     "traceback": [
      "\u001b[0;31m---------------------------------------------------------------------------\u001b[0m",
      "\u001b[0;31mNameError\u001b[0m                                 Traceback (most recent call last)",
      "Cell \u001b[0;32mIn[8], line 9\u001b[0m\n\u001b[1;32m      7\u001b[0m     \u001b[38;5;28mprint\u001b[39m(\u001b[38;5;124m\"\u001b[39m\u001b[38;5;124mFile content:\u001b[39m\u001b[38;5;124m\"\u001b[39m, content)\n\u001b[1;32m      8\u001b[0m \u001b[38;5;28;01mfinally\u001b[39;00m:\n\u001b[0;32m----> 9\u001b[0m     \u001b[43mfile\u001b[49m\u001b[38;5;241m.\u001b[39mclose()\n\u001b[1;32m     10\u001b[0m     \u001b[38;5;28mprint\u001b[39m(\u001b[38;5;124m\"\u001b[39m\u001b[38;5;124mFile closed\u001b[39m\u001b[38;5;124m\"\u001b[39m)\n",
      "\u001b[0;31mNameError\u001b[0m: name 'file' is not defined"
     ]
    }
   ],
   "source": [
    "try:\n",
    "    file = open(\"example.txt\", \"r\")\n",
    "    content = file.read()\n",
    "except FileNotFoundError:\n",
    "    print(\"File not found\")\n",
    "else:\n",
    "    print(\"File content:\", content)\n",
    "finally:\n",
    "    file.close()\n",
    "    print(\"File closed\")\n"
   ]
  },
  {
   "cell_type": "code",
   "execution_count": null,
   "id": "45f7751f-95e7-4703-957e-b0ac9fd6ee29",
   "metadata": {},
   "outputs": [],
   "source": [
    "c. raise Example:\n",
    "The raise statement is used to raise exceptions explicitly, allowing you to trigger specific exceptions when \n",
    "certain conditions are met."
   ]
  },
  {
   "cell_type": "code",
   "execution_count": 9,
   "id": "5ca580b1-d52b-4e87-b5a3-87f04bdb6806",
   "metadata": {},
   "outputs": [
    {
     "name": "stdin",
     "output_type": "stream",
     "text": [
      "Enter your age:  4\n"
     ]
    },
    {
     "name": "stdout",
     "output_type": "stream",
     "text": [
      "Exception: You must be at least 18 years old\n"
     ]
    }
   ],
   "source": [
    "def validate_age(age):\n",
    "    if age < 0:\n",
    "        raise ValueError(\"Age cannot be negative\")\n",
    "    if age < 18:\n",
    "        raise Exception(\"You must be at least 18 years old\")\n",
    "\n",
    "try:\n",
    "    user_age = int(input(\"Enter your age: \"))\n",
    "    validate_age(user_age)\n",
    "except ValueError as ve:\n",
    "    print(\"ValueError:\", ve)\n",
    "except Exception as e:\n",
    "    print(\"Exception:\", e)\n"
   ]
  },
  {
   "cell_type": "code",
   "execution_count": null,
   "id": "fcdc82aa-3cf1-4234-8742-95015c00bda5",
   "metadata": {},
   "outputs": [],
   "source": [
    "Q5. What are Custom Exceptions in python ? Why do we need Custom Exceptions ? Explain\n",
    "with an example."
   ]
  },
  {
   "cell_type": "code",
   "execution_count": null,
   "id": "4eddf2b5-c3d2-4e01-a5da-080d4aced0d6",
   "metadata": {},
   "outputs": [],
   "source": [
    "Custom exceptions, also known as user-defined exceptions, are exceptions that you create yourself by defining a\n",
    "new exception class. These exceptions allow you to handle specific error conditions in your code in a more \n",
    "structured and meaningful way. By creating custom exceptions, you can provide better context and information about \n",
    "the errors that occur in your application."
   ]
  },
  {
   "cell_type": "code",
   "execution_count": null,
   "id": "ea203380-acec-44c0-b93f-69431c757135",
   "metadata": {},
   "outputs": [],
   "source": [
    "Why do we need Custom Exceptions?\n",
    "\n",
    "Clarity: Custom exceptions can make your code more readable and maintainable by providing clear and meaningful names for specific error scenarios. This helps other developers understand the intention behind the exception and how to handle it.\n",
    "\n",
    "Modularity: Custom exceptions encapsulate the error-handling logic for a particular domain or module. This allows you to handle different exceptions in a consistent and organized manner.\n",
    "\n",
    "Traceability: Custom exceptions can include additional information about the error context, making it easier to debug and identify the root cause of issues.\n",
    "\n",
    "Abstraction: Custom exceptions abstract the low-level details of the error and allow you to provide a higher-level description of the error condition."
   ]
  },
  {
   "cell_type": "code",
   "execution_count": 10,
   "id": "5938b7cb-ad74-436c-84b5-cf1186b82bf7",
   "metadata": {},
   "outputs": [
    {
     "name": "stdout",
     "output_type": "stream",
     "text": [
      "Error: Insufficient balance. Current balance: 100, Required amount: 150\n"
     ]
    }
   ],
   "source": [
    "class InsufficientBalanceError(Exception):\n",
    "    def __init__(self, balance, required_amount):\n",
    "        self.balance = balance\n",
    "        self.required_amount = required_amount\n",
    "        super().__init__(f\"Insufficient balance. Current balance: {balance}, Required amount: {required_amount}\")\n",
    "\n",
    "def withdraw_from_account(balance, amount):\n",
    "    if balance < amount:\n",
    "        raise InsufficientBalanceError(balance, amount)\n",
    "    return balance - amount\n",
    "\n",
    "try:\n",
    "    account_balance = 100\n",
    "    withdrawal_amount = 150\n",
    "    new_balance = withdraw_from_account(account_balance, withdrawal_amount)\n",
    "    print(\"Withdrawal successful. New balance:\", new_balance)\n",
    "except InsufficientBalanceError as e:\n",
    "    print(\"Error:\", e)\n"
   ]
  },
  {
   "cell_type": "code",
   "execution_count": null,
   "id": "c88c1cfe-cab0-44b9-90f9-def4c30a15fd",
   "metadata": {},
   "outputs": [],
   "source": []
  }
 ],
 "metadata": {
  "kernelspec": {
   "display_name": "Python 3 (ipykernel)",
   "language": "python",
   "name": "python3"
  },
  "language_info": {
   "codemirror_mode": {
    "name": "ipython",
    "version": 3
   },
   "file_extension": ".py",
   "mimetype": "text/x-python",
   "name": "python",
   "nbconvert_exporter": "python",
   "pygments_lexer": "ipython3",
   "version": "3.10.8"
  }
 },
 "nbformat": 4,
 "nbformat_minor": 5
}
